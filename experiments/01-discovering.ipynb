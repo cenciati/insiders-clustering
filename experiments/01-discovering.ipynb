{
 "cells": [
  {
   "cell_type": "markdown",
   "metadata": {},
   "source": [
    "# 0. Imports"
   ]
  },
  {
   "cell_type": "markdown",
   "metadata": {},
   "source": [
    "## 0.1. Libraries and configs"
   ]
  },
  {
   "cell_type": "code",
   "execution_count": 1,
   "metadata": {},
   "outputs": [
    {
     "data": {
      "text/html": [
       "<pre style=\"white-space:pre;overflow-x:auto;line-height:normal;font-family:Menlo,'DejaVu Sans Mono',consolas,'Courier New',monospace\"><span style=\"color: #7fbfbf; text-decoration-color: #7fbfbf\">[10/27/23 09:19:43] </span><span style=\"color: #000080; text-decoration-color: #000080\">INFO    </span> jupyter configurations setted                                              <a href=\"file:///home/sheep/repos/insiders-clustering/experiments/../src/utils.py\" target=\"_blank\"><span style=\"color: #7f7f7f; text-decoration-color: #7f7f7f\">utils.py</span></a><span style=\"color: #7f7f7f; text-decoration-color: #7f7f7f\">:</span><a href=\"file:///home/sheep/repos/insiders-clustering/experiments/../src/utils.py#57\" target=\"_blank\"><span style=\"color: #7f7f7f; text-decoration-color: #7f7f7f\">57</span></a>\n",
       "</pre>\n"
      ],
      "text/plain": [
       "\u001b[2;36m[10/27/23 09:19:43]\u001b[0m\u001b[2;36m \u001b[0m\u001b[34mINFO    \u001b[0m jupyter configurations setted                                              \u001b]8;id=271493;file:///home/sheep/repos/insiders-clustering/experiments/../src/utils.py\u001b\\\u001b[2mutils.py\u001b[0m\u001b]8;;\u001b\\\u001b[2m:\u001b[0m\u001b]8;id=536110;file:///home/sheep/repos/insiders-clustering/experiments/../src/utils.py#57\u001b\\\u001b[2m57\u001b[0m\u001b]8;;\u001b\\\n"
      ]
     },
     "metadata": {},
     "output_type": "display_data"
    }
   ],
   "source": [
    "# Typing\n",
    "import typing as t\n",
    "\n",
    "# Data manipulation\n",
    "import re\n",
    "import pandas as pd\n",
    "import numpy as np\n",
    "from inflection import underscore\n",
    "# from pandas_profiling import ProfileReport\n",
    "\n",
    "# Data visualization\n",
    "# import seaborn as sns\n",
    "# from matplotlib import pyplot as plt\n",
    "# from plotly import express as px\n",
    "\n",
    "# Machine learning\n",
    "# from sklearn.preprocessing import MinMaxScaler\n",
    "# from sklearn.decomposition import PCA\n",
    "# from umap.umap_ import UMAP\n",
    "# from sklearn.manifold import TSNE\n",
    "# from sklearn.cluster import KMeans\n",
    "# from yellowbrick.cluster import KElbowVisualizer, SilhouetteVisualizer\n",
    "# from sklearn.metrics import silhouette_score\n",
    "\n",
    "# other\n",
    "# import joblib\n",
    "from sys import path\n",
    "path.append(\"../\")\n",
    "from src.utils import set_jupyter_settings\n",
    "from src.__logs__.logging import logger\n",
    "set_jupyter_settings()\n"
   ]
  },
  {
   "cell_type": "markdown",
   "metadata": {},
   "source": [
    "## 0.2. Data acquisition\n",
    "- Data source: [Kaggle](https://www.kaggle.com/vik2012kvs/high-value-customers-identification)\n",
    "- Input description: E-commerce purchase history from November 2016 to December 2017"
   ]
  },
  {
   "cell_type": "code",
   "execution_count": 2,
   "metadata": {},
   "outputs": [
    {
     "data": {
      "text/html": [
       "<div>\n",
       "<style scoped>\n",
       "    .dataframe tbody tr th:only-of-type {\n",
       "        vertical-align: middle;\n",
       "    }\n",
       "\n",
       "    .dataframe tbody tr th {\n",
       "        vertical-align: top;\n",
       "    }\n",
       "\n",
       "    .dataframe thead th {\n",
       "        text-align: right;\n",
       "    }\n",
       "</style>\n",
       "<table border=\"1\" class=\"dataframe\">\n",
       "  <thead>\n",
       "    <tr style=\"text-align: right;\">\n",
       "      <th></th>\n",
       "      <th>InvoiceNo</th>\n",
       "      <th>StockCode</th>\n",
       "      <th>Description</th>\n",
       "      <th>Quantity</th>\n",
       "      <th>InvoiceDate</th>\n",
       "      <th>UnitPrice</th>\n",
       "      <th>CustomerID</th>\n",
       "      <th>Country</th>\n",
       "    </tr>\n",
       "  </thead>\n",
       "  <tbody>\n",
       "    <tr>\n",
       "      <th>387967</th>\n",
       "      <td>570410</td>\n",
       "      <td>22396</td>\n",
       "      <td>MAGNETS PACK OF 4 RETRO PHOTO</td>\n",
       "      <td>1</td>\n",
       "      <td>8-Oct-17</td>\n",
       "      <td>0.39</td>\n",
       "      <td>16776.0</td>\n",
       "      <td>United Kingdom</td>\n",
       "    </tr>\n",
       "    <tr>\n",
       "      <th>510721</th>\n",
       "      <td>579467</td>\n",
       "      <td>23560</td>\n",
       "      <td>SET OF 6 RIBBONS COUNTRY STYLE</td>\n",
       "      <td>6</td>\n",
       "      <td>27-Nov-17</td>\n",
       "      <td>2.89</td>\n",
       "      <td>15755.0</td>\n",
       "      <td>United Kingdom</td>\n",
       "    </tr>\n",
       "    <tr>\n",
       "      <th>416072</th>\n",
       "      <td>572550</td>\n",
       "      <td>23567</td>\n",
       "      <td>EGG CUP HENRIETTA HEN PINK</td>\n",
       "      <td>1</td>\n",
       "      <td>22-Oct-17</td>\n",
       "      <td>2.46</td>\n",
       "      <td>NaN</td>\n",
       "      <td>United Kingdom</td>\n",
       "    </tr>\n",
       "    <tr>\n",
       "      <th>437992</th>\n",
       "      <td>574301</td>\n",
       "      <td>20749</td>\n",
       "      <td>ASSORTED COLOUR MINI CASES</td>\n",
       "      <td>4</td>\n",
       "      <td>1-Nov-17</td>\n",
       "      <td>7.95</td>\n",
       "      <td>12544.0</td>\n",
       "      <td>Spain</td>\n",
       "    </tr>\n",
       "    <tr>\n",
       "      <th>166468</th>\n",
       "      <td>550921</td>\n",
       "      <td>21977</td>\n",
       "      <td>PACK OF 60 PINK PAISLEY CAKE CASES</td>\n",
       "      <td>24</td>\n",
       "      <td>19-Apr-17</td>\n",
       "      <td>0.55</td>\n",
       "      <td>14770.0</td>\n",
       "      <td>United Kingdom</td>\n",
       "    </tr>\n",
       "  </tbody>\n",
       "</table>\n",
       "</div>"
      ],
      "text/plain": [
       "       InvoiceNo StockCode                         Description  Quantity  \\\n",
       "387967    570410     22396       MAGNETS PACK OF 4 RETRO PHOTO         1   \n",
       "510721    579467     23560      SET OF 6 RIBBONS COUNTRY STYLE         6   \n",
       "416072    572550     23567          EGG CUP HENRIETTA HEN PINK         1   \n",
       "437992    574301     20749          ASSORTED COLOUR MINI CASES         4   \n",
       "166468    550921     21977  PACK OF 60 PINK PAISLEY CAKE CASES        24   \n",
       "\n",
       "       InvoiceDate  UnitPrice  CustomerID         Country  \n",
       "387967    8-Oct-17       0.39     16776.0  United Kingdom  \n",
       "510721   27-Nov-17       2.89     15755.0  United Kingdom  \n",
       "416072   22-Oct-17       2.46         NaN  United Kingdom  \n",
       "437992    1-Nov-17       7.95     12544.0           Spain  \n",
       "166468   19-Apr-17       0.55     14770.0  United Kingdom  "
      ]
     },
     "execution_count": 2,
     "metadata": {},
     "output_type": "execute_result"
    }
   ],
   "source": [
    "raw_df: pd.DataFrame = pd.read_csv(\"../data/raw/Ecommerce.csv\", encoding=\"ISO-8859-1\")\n",
    "raw_df.drop(raw_df.filter(regex=\"Unnamed\"), axis=1, inplace=True)\n",
    "raw_df.sample(5)\n"
   ]
  },
  {
   "cell_type": "markdown",
   "metadata": {},
   "source": [
    "# 1. Data cleaning and description"
   ]
  },
  {
   "cell_type": "markdown",
   "metadata": {},
   "source": [
    "## Data dictionary"
   ]
  },
  {
   "cell_type": "markdown",
   "metadata": {},
   "source": [
    "Column | Explanation\n",
    "------- | -------\n",
    "**InvoiceNo** | Purchase identifier\n",
    "**StockCode** | Product identifier\n",
    "**Description** | Product description\n",
    "**Quantity** | Quantity purchased\n",
    "**InvoiceDate** | Purchase date\n",
    "**UnitPrice** | Product price\n",
    "**CustomerID** | Customer ID who purchased\n",
    "**Country** | Where the purchase was made"
   ]
  },
  {
   "cell_type": "markdown",
   "metadata": {},
   "source": [
    "## 1.1. Rename columns"
   ]
  },
  {
   "cell_type": "code",
   "execution_count": 3,
   "metadata": {},
   "outputs": [
    {
     "name": "stdout",
     "output_type": "stream",
     "text": [
      "Index(['invoice_no', 'stock_code', 'description', 'quantity', 'invoice_date',\n",
      "       'unit_price', 'customer_id', 'country'],\n",
      "      dtype='object')\n"
     ]
    }
   ],
   "source": [
    "raw_df.columns: t.List[str] = map(underscore, raw_df.columns)\n",
    "print(raw_df.columns)\n"
   ]
  },
  {
   "cell_type": "markdown",
   "metadata": {},
   "source": [
    "## 1.2. Data dimensions"
   ]
  },
  {
   "cell_type": "code",
   "execution_count": 4,
   "metadata": {},
   "outputs": [
    {
     "name": "stdout",
     "output_type": "stream",
     "text": [
      "Rows count:\t 541909\n",
      "Columns count:\t 8\n"
     ]
    }
   ],
   "source": [
    "print(\"Rows count:\\t %d\\nColumns count:\\t %d\" % raw_df.shape)\n"
   ]
  },
  {
   "cell_type": "markdown",
   "metadata": {},
   "source": [
    "## 1.3. Duplicate data"
   ]
  },
  {
   "cell_type": "code",
   "execution_count": 5,
   "metadata": {},
   "outputs": [],
   "source": [
    "raw_df.loc[raw_df.duplicated(), :]\n",
    "# Duplicate rows just add noise to the data,\n",
    "# so we can directly drop them because they will be useless\n",
    "# for the analysis\n",
    "raw_df.drop_duplicates(inplace=True)\n"
   ]
  },
  {
   "cell_type": "markdown",
   "metadata": {},
   "source": [
    "## 1.4. Data types"
   ]
  },
  {
   "cell_type": "code",
   "execution_count": 6,
   "metadata": {},
   "outputs": [
    {
     "name": "stdout",
     "output_type": "stream",
     "text": [
      "<class 'pandas.core.frame.DataFrame'>\n",
      "Index: 536640 entries, 0 to 541908\n",
      "Data columns (total 8 columns):\n",
      " #   Column        Non-Null Count   Dtype  \n",
      "---  ------        --------------   -----  \n",
      " 0   invoice_no    536640 non-null  object \n",
      " 1   stock_code    536640 non-null  object \n",
      " 2   description   535186 non-null  object \n",
      " 3   quantity      536640 non-null  int64  \n",
      " 4   invoice_date  536640 non-null  object \n",
      " 5   unit_price    536640 non-null  float64\n",
      " 6   customer_id   401603 non-null  float64\n",
      " 7   country       536640 non-null  object \n",
      "dtypes: float64(2), int64(1), object(5)\n",
      "memory usage: 36.8+ MB\n",
      "None\n"
     ]
    }
   ],
   "source": [
    "print(raw_df.info())\n"
   ]
  },
  {
   "cell_type": "code",
   "execution_count": 7,
   "metadata": {},
   "outputs": [
    {
     "data": {
      "text/html": [
       "<div>\n",
       "<style scoped>\n",
       "    .dataframe tbody tr th:only-of-type {\n",
       "        vertical-align: middle;\n",
       "    }\n",
       "\n",
       "    .dataframe tbody tr th {\n",
       "        vertical-align: top;\n",
       "    }\n",
       "\n",
       "    .dataframe thead th {\n",
       "        text-align: right;\n",
       "    }\n",
       "</style>\n",
       "<table border=\"1\" class=\"dataframe\">\n",
       "  <thead>\n",
       "    <tr style=\"text-align: right;\">\n",
       "      <th></th>\n",
       "      <th>invoice_no</th>\n",
       "      <th>stock_code</th>\n",
       "      <th>description</th>\n",
       "      <th>quantity</th>\n",
       "      <th>invoice_date</th>\n",
       "      <th>unit_price</th>\n",
       "      <th>customer_id</th>\n",
       "      <th>country</th>\n",
       "    </tr>\n",
       "  </thead>\n",
       "  <tbody>\n",
       "    <tr>\n",
       "      <th>232499</th>\n",
       "      <td>557322</td>\n",
       "      <td>22617</td>\n",
       "      <td>BAKING SET SPACEBOY DESIGN</td>\n",
       "      <td>6</td>\n",
       "      <td>2017-06-18 00:00:00</td>\n",
       "      <td>4.95</td>\n",
       "      <td>17444.0</td>\n",
       "      <td>Canada</td>\n",
       "    </tr>\n",
       "    <tr>\n",
       "      <th>405657</th>\n",
       "      <td>571716</td>\n",
       "      <td>21822</td>\n",
       "      <td>GLITTER CHRISTMAS TREE WITH BELLS</td>\n",
       "      <td>2</td>\n",
       "      <td>2017-10-16 00:00:00</td>\n",
       "      <td>1.63</td>\n",
       "      <td>NaN</td>\n",
       "      <td>United Kingdom</td>\n",
       "    </tr>\n",
       "    <tr>\n",
       "      <th>333214</th>\n",
       "      <td>566189</td>\n",
       "      <td>20727</td>\n",
       "      <td>LUNCH BAG  BLACK SKULL.</td>\n",
       "      <td>3</td>\n",
       "      <td>2017-09-07 00:00:00</td>\n",
       "      <td>1.65</td>\n",
       "      <td>17800.0</td>\n",
       "      <td>United Kingdom</td>\n",
       "    </tr>\n",
       "    <tr>\n",
       "      <th>170442</th>\n",
       "      <td>551293</td>\n",
       "      <td>22355</td>\n",
       "      <td>CHARLOTTE BAG SUKI DESIGN</td>\n",
       "      <td>50</td>\n",
       "      <td>2017-04-25 00:00:00</td>\n",
       "      <td>0.72</td>\n",
       "      <td>14298.0</td>\n",
       "      <td>United Kingdom</td>\n",
       "    </tr>\n",
       "    <tr>\n",
       "      <th>13044</th>\n",
       "      <td>537415</td>\n",
       "      <td>22956</td>\n",
       "      <td>36 FOIL HEART CAKE CASES</td>\n",
       "      <td>6</td>\n",
       "      <td>2016-12-04 00:00:00</td>\n",
       "      <td>2.10</td>\n",
       "      <td>16654.0</td>\n",
       "      <td>United Kingdom</td>\n",
       "    </tr>\n",
       "  </tbody>\n",
       "</table>\n",
       "</div>"
      ],
      "text/plain": [
       "       invoice_no stock_code                        description  quantity  \\\n",
       "232499     557322      22617         BAKING SET SPACEBOY DESIGN         6   \n",
       "405657     571716      21822  GLITTER CHRISTMAS TREE WITH BELLS         2   \n",
       "333214     566189      20727            LUNCH BAG  BLACK SKULL.         3   \n",
       "170442     551293      22355          CHARLOTTE BAG SUKI DESIGN        50   \n",
       "13044      537415      22956           36 FOIL HEART CAKE CASES         6   \n",
       "\n",
       "               invoice_date  unit_price  customer_id         country  \n",
       "232499  2017-06-18 00:00:00        4.95      17444.0          Canada  \n",
       "405657  2017-10-16 00:00:00        1.63          NaN  United Kingdom  \n",
       "333214  2017-09-07 00:00:00        1.65      17800.0  United Kingdom  \n",
       "170442  2017-04-25 00:00:00        0.72      14298.0  United Kingdom  \n",
       "13044   2016-12-04 00:00:00        2.10      16654.0  United Kingdom  "
      ]
     },
     "execution_count": 7,
     "metadata": {},
     "output_type": "execute_result"
    }
   ],
   "source": [
    "raw_df.loc[:, \"invoice_date\"] = pd.to_datetime(raw_df.loc[:, \"invoice_date\"], format=\"%d-%b-%y\")\n",
    "for column in [\"invoice_no\", \"stock_code\", \"country\"]:\n",
    "    raw_df.loc[:, column] = raw_df.loc[:, column].astype(\"category\")\n",
    "raw_df.sample(5)\n"
   ]
  },
  {
   "cell_type": "markdown",
   "metadata": {},
   "source": [
    "## 1.5. Missing data"
   ]
  },
  {
   "cell_type": "code",
   "execution_count": 8,
   "metadata": {},
   "outputs": [
    {
     "data": {
      "text/html": [
       "<div>\n",
       "<style scoped>\n",
       "    .dataframe tbody tr th:only-of-type {\n",
       "        vertical-align: middle;\n",
       "    }\n",
       "\n",
       "    .dataframe tbody tr th {\n",
       "        vertical-align: top;\n",
       "    }\n",
       "\n",
       "    .dataframe thead th {\n",
       "        text-align: right;\n",
       "    }\n",
       "</style>\n",
       "<table border=\"1\" class=\"dataframe\">\n",
       "  <thead>\n",
       "    <tr style=\"text-align: right;\">\n",
       "      <th></th>\n",
       "      <th>absolute</th>\n",
       "      <th>percentage</th>\n",
       "    </tr>\n",
       "  </thead>\n",
       "  <tbody>\n",
       "    <tr>\n",
       "      <th>customer_id</th>\n",
       "      <td>135037</td>\n",
       "      <td>0.251634</td>\n",
       "    </tr>\n",
       "    <tr>\n",
       "      <th>description</th>\n",
       "      <td>1454</td>\n",
       "      <td>0.002709</td>\n",
       "    </tr>\n",
       "    <tr>\n",
       "      <th>invoice_no</th>\n",
       "      <td>0</td>\n",
       "      <td>0.000000</td>\n",
       "    </tr>\n",
       "    <tr>\n",
       "      <th>stock_code</th>\n",
       "      <td>0</td>\n",
       "      <td>0.000000</td>\n",
       "    </tr>\n",
       "    <tr>\n",
       "      <th>quantity</th>\n",
       "      <td>0</td>\n",
       "      <td>0.000000</td>\n",
       "    </tr>\n",
       "    <tr>\n",
       "      <th>invoice_date</th>\n",
       "      <td>0</td>\n",
       "      <td>0.000000</td>\n",
       "    </tr>\n",
       "    <tr>\n",
       "      <th>unit_price</th>\n",
       "      <td>0</td>\n",
       "      <td>0.000000</td>\n",
       "    </tr>\n",
       "    <tr>\n",
       "      <th>country</th>\n",
       "      <td>0</td>\n",
       "      <td>0.000000</td>\n",
       "    </tr>\n",
       "  </tbody>\n",
       "</table>\n",
       "</div>"
      ],
      "text/plain": [
       "              absolute  percentage\n",
       "customer_id     135037    0.251634\n",
       "description       1454    0.002709\n",
       "invoice_no           0    0.000000\n",
       "stock_code           0    0.000000\n",
       "quantity             0    0.000000\n",
       "invoice_date         0    0.000000\n",
       "unit_price           0    0.000000\n",
       "country              0    0.000000"
      ]
     },
     "execution_count": 8,
     "metadata": {},
     "output_type": "execute_result"
    }
   ],
   "source": [
    "na_summary_df = pd.DataFrame()\n",
    "na_summary_df[\"absolute\"] = raw_df.isna().sum().sort_values(ascending=False)\n",
    "na_summary_df[\"percentage\"] = na_summary_df[\"absolute\"] / raw_df.shape[0]\n",
    "na_summary_df\n"
   ]
  },
  {
   "cell_type": "code",
   "execution_count": 9,
   "metadata": {},
   "outputs": [
    {
     "name": "stdout",
     "output_type": "stream",
     "text": [
      "invoice_no      0\n",
      "stock_code      0\n",
      "description     0\n",
      "quantity        0\n",
      "invoice_date    0\n",
      "unit_price      0\n",
      "customer_id     0\n",
      "country         0\n",
      "dtype: int64\n"
     ]
    }
   ],
   "source": [
    "# At first, I'll just drop the rows with NA.\n",
    "# TODO: Later on, try to deal with them more cleverly\n",
    "raw_df.dropna(inplace=True)\n",
    "print(raw_df.isna().sum())\n"
   ]
  },
  {
   "cell_type": "markdown",
   "metadata": {},
   "source": [
    "## 1.6. Outliers"
   ]
  },
  {
   "cell_type": "code",
   "execution_count": 10,
   "metadata": {},
   "outputs": [],
   "source": [
    "# TODO\n"
   ]
  },
  {
   "cell_type": "markdown",
   "metadata": {},
   "source": [
    "## 1.7. Imbalance"
   ]
  },
  {
   "cell_type": "code",
   "execution_count": 11,
   "metadata": {},
   "outputs": [],
   "source": [
    "# TODO\n"
   ]
  },
  {
   "cell_type": "markdown",
   "metadata": {},
   "source": [
    "## 1.8. Descriptive statistics"
   ]
  },
  {
   "cell_type": "code",
   "execution_count": 23,
   "metadata": {},
   "outputs": [],
   "source": [
    "num_attr_df = raw_df.select_dtypes(include=np.number)\n",
    "cat_attr_df = raw_df.select_dtypes(exclude=[np.number, np.datetime64])\n"
   ]
  },
  {
   "cell_type": "markdown",
   "metadata": {},
   "source": [
    "### 1.8.1. Numerical attributes\n",
    "- Central tendency and dispersion metrics"
   ]
  },
  {
   "cell_type": "code",
   "execution_count": 28,
   "metadata": {},
   "outputs": [
    {
     "data": {
      "text/html": [
       "<div>\n",
       "<style scoped>\n",
       "    .dataframe tbody tr th:only-of-type {\n",
       "        vertical-align: middle;\n",
       "    }\n",
       "\n",
       "    .dataframe tbody tr th {\n",
       "        vertical-align: top;\n",
       "    }\n",
       "\n",
       "    .dataframe thead th {\n",
       "        text-align: right;\n",
       "    }\n",
       "</style>\n",
       "<table border=\"1\" class=\"dataframe\">\n",
       "  <thead>\n",
       "    <tr style=\"text-align: right;\">\n",
       "      <th></th>\n",
       "      <th>count</th>\n",
       "      <th>mean</th>\n",
       "      <th>std</th>\n",
       "      <th>min</th>\n",
       "      <th>25%</th>\n",
       "      <th>50%</th>\n",
       "      <th>75%</th>\n",
       "      <th>max</th>\n",
       "      <th>range</th>\n",
       "      <th>skew</th>\n",
       "      <th>kurtosis</th>\n",
       "    </tr>\n",
       "  </thead>\n",
       "  <tbody>\n",
       "    <tr>\n",
       "      <th>quantity</th>\n",
       "      <td>401603.0</td>\n",
       "      <td>12.183298</td>\n",
       "      <td>250.283348</td>\n",
       "      <td>-80995.0</td>\n",
       "      <td>2.00</td>\n",
       "      <td>5.00</td>\n",
       "      <td>12.00</td>\n",
       "      <td>80995.0</td>\n",
       "      <td>161990.0</td>\n",
       "      <td>0.179956</td>\n",
       "      <td>93140.042875</td>\n",
       "    </tr>\n",
       "    <tr>\n",
       "      <th>unit_price</th>\n",
       "      <td>401603.0</td>\n",
       "      <td>3.474067</td>\n",
       "      <td>69.764122</td>\n",
       "      <td>0.0</td>\n",
       "      <td>1.25</td>\n",
       "      <td>1.95</td>\n",
       "      <td>3.75</td>\n",
       "      <td>38970.0</td>\n",
       "      <td>38970.0</td>\n",
       "      <td>449.315686</td>\n",
       "      <td>243760.343381</td>\n",
       "    </tr>\n",
       "    <tr>\n",
       "      <th>customer_id</th>\n",
       "      <td>401603.0</td>\n",
       "      <td>15281.162093</td>\n",
       "      <td>1714.008032</td>\n",
       "      <td>12346.0</td>\n",
       "      <td>13939.00</td>\n",
       "      <td>15145.00</td>\n",
       "      <td>16784.00</td>\n",
       "      <td>18287.0</td>\n",
       "      <td>5941.0</td>\n",
       "      <td>0.034213</td>\n",
       "      <td>-1.179865</td>\n",
       "    </tr>\n",
       "  </tbody>\n",
       "</table>\n",
       "</div>"
      ],
      "text/plain": [
       "                count          mean          std      min       25%       50%  \\\n",
       "quantity     401603.0     12.183298   250.283348 -80995.0      2.00      5.00   \n",
       "unit_price   401603.0      3.474067    69.764122      0.0      1.25      1.95   \n",
       "customer_id  401603.0  15281.162093  1714.008032  12346.0  13939.00  15145.00   \n",
       "\n",
       "                  75%      max     range        skew       kurtosis  \n",
       "quantity        12.00  80995.0  161990.0    0.179956   93140.042875  \n",
       "unit_price       3.75  38970.0   38970.0  449.315686  243760.343381  \n",
       "customer_id  16784.00  18287.0    5941.0    0.034213      -1.179865  "
      ]
     },
     "execution_count": 28,
     "metadata": {},
     "output_type": "execute_result"
    }
   ],
   "source": [
    "num_attr_metrics_df = num_attr_df.describe().T\n",
    "num_attr_metrics_df[\"range\"] = num_attr_metrics_df[\"max\"] - num_attr_metrics_df[\"min\"]\n",
    "num_attr_metrics_df[\"skew\"] = num_attr_df.skew()\n",
    "num_attr_metrics_df[\"kurtosis\"] = num_attr_df.kurtosis()\n",
    "num_attr_metrics_df\n"
   ]
  },
  {
   "cell_type": "markdown",
   "metadata": {},
   "source": [
    "###      1.8.2. Categorical attributes"
   ]
  },
  {
   "cell_type": "code",
   "execution_count": 29,
   "metadata": {},
   "outputs": [
    {
     "data": {
      "text/html": [
       "<div>\n",
       "<style scoped>\n",
       "    .dataframe tbody tr th:only-of-type {\n",
       "        vertical-align: middle;\n",
       "    }\n",
       "\n",
       "    .dataframe tbody tr th {\n",
       "        vertical-align: top;\n",
       "    }\n",
       "\n",
       "    .dataframe thead th {\n",
       "        text-align: right;\n",
       "    }\n",
       "</style>\n",
       "<table border=\"1\" class=\"dataframe\">\n",
       "  <thead>\n",
       "    <tr style=\"text-align: right;\">\n",
       "      <th></th>\n",
       "      <th>count</th>\n",
       "      <th>unique</th>\n",
       "      <th>top</th>\n",
       "      <th>freq</th>\n",
       "    </tr>\n",
       "  </thead>\n",
       "  <tbody>\n",
       "    <tr>\n",
       "      <th>invoice_no</th>\n",
       "      <td>401603</td>\n",
       "      <td>22190</td>\n",
       "      <td>576339</td>\n",
       "      <td>542</td>\n",
       "    </tr>\n",
       "    <tr>\n",
       "      <th>stock_code</th>\n",
       "      <td>401603</td>\n",
       "      <td>3684</td>\n",
       "      <td>85123A</td>\n",
       "      <td>2065</td>\n",
       "    </tr>\n",
       "    <tr>\n",
       "      <th>description</th>\n",
       "      <td>401603</td>\n",
       "      <td>3896</td>\n",
       "      <td>WHITE HANGING HEART T-LIGHT HOLDER</td>\n",
       "      <td>2058</td>\n",
       "    </tr>\n",
       "    <tr>\n",
       "      <th>invoice_date</th>\n",
       "      <td>401603</td>\n",
       "      <td>305</td>\n",
       "      <td>2017-12-03 00:00:00</td>\n",
       "      <td>3359</td>\n",
       "    </tr>\n",
       "    <tr>\n",
       "      <th>country</th>\n",
       "      <td>401603</td>\n",
       "      <td>37</td>\n",
       "      <td>United Kingdom</td>\n",
       "      <td>356727</td>\n",
       "    </tr>\n",
       "  </tbody>\n",
       "</table>\n",
       "</div>"
      ],
      "text/plain": [
       "               count unique                                 top    freq\n",
       "invoice_no    401603  22190                              576339     542\n",
       "stock_code    401603   3684                              85123A    2065\n",
       "description   401603   3896  WHITE HANGING HEART T-LIGHT HOLDER    2058\n",
       "invoice_date  401603    305                 2017-12-03 00:00:00    3359\n",
       "country       401603     37                      United Kingdom  356727"
      ]
     },
     "execution_count": 29,
     "metadata": {},
     "output_type": "execute_result"
    }
   ],
   "source": [
    "cat_attr_df.describe().T\n"
   ]
  }
 ],
 "metadata": {
  "kernelspec": {
   "display_name": ".venv",
   "language": "python",
   "name": "python3"
  },
  "language_info": {
   "codemirror_mode": {
    "name": "ipython",
    "version": 3
   },
   "file_extension": ".py",
   "mimetype": "text/x-python",
   "name": "python",
   "nbconvert_exporter": "python",
   "pygments_lexer": "ipython3",
   "version": "3.11.5"
  },
  "orig_nbformat": 4
 },
 "nbformat": 4,
 "nbformat_minor": 2
}
